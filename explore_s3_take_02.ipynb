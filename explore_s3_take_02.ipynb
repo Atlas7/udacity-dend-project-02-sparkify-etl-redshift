{
 "cells": [
  {
   "cell_type": "markdown",
   "metadata": {
    "editable": true
   },
   "source": [
    "# Explore what is on S3 - take 2\n",
    "\n",
    "References:\n",
    "* Udacity Lesson 3 Exercise 2 - IaC (infrastructure as Code) - solution\n",
    "* https://boto3.amazonaws.com/v1/documentation/api/latest/reference/services/redshift.html"
   ]
  },
  {
   "cell_type": "code",
   "execution_count": 1,
   "metadata": {
    "editable": true
   },
   "outputs": [],
   "source": [
    "import pandas as pd\n",
    "import boto3\n",
    "import json"
   ]
  },
  {
   "cell_type": "markdown",
   "metadata": {
    "editable": true
   },
   "source": [
    "## STEP 0: (Prerequisite) Save the AWS Access key\n",
    "\n",
    "### 1. Create a new IAM user\n",
    "IAM service is a global service, meaning newly created IAM users are not restricted to a specific region by default.\n",
    "- Go to [AWS IAM service](https://console.aws.amazon.com/iam/home#/users) and click on the \"**Add user**\" button to create a new IAM user in your AWS account. \n",
    "- Choose a name of your choice. \n",
    "- Select \"*Programmatic access*\" as the access type. Click Next. \n",
    "- Choose the *Attach existing policies directly* tab, and select the \"**AdministratorAccess**\". Click Next. \n",
    "- Skip adding any tags. Click Next. \n",
    "- Review and create the user. It will show you a pair of access key ID and secret.\n",
    "- Take note of the pair of access key ID and secret. This pair is collectively known as **Access key**. \n",
    "\n",
    "### <font color='red'>2. Save the access key and secret</font>\n",
    "Edit the file `dwh.cfg` in the same folder as this notebook and save the access key and secret against the following variables:\n",
    "```bash\n",
    "KEY= <YOUR_AWS_KEY>\n",
    "SECRET= <YOUR_AWS_SECRET>\n",
    "```\n",
    "    \n",
    "For example:\n",
    "```bash\n",
    "KEY=6JW3ATLQ34PH3AKI\n",
    "SECRET=wnoBHA+qUBFgwCRHJqgqrLU0i\n",
    "```\n",
    "\n",
    "### 3. Troubleshoot\n",
    "If your keys are not working, such as getting an `InvalidAccessKeyId` error, then you cannot retrieve them again. You have either of the following two options:\n",
    "\n",
    "1. **Option 1 - Create a new pair of access keys for the existing user**\n",
    "\n",
    " - Go to the [IAM dashboard](https://console.aws.amazon.com/iam/home) and view the details of the existing (Admin) user. \n",
    "\n",
    " - Select on the **Security credentials** tab, and click the **Create access key** button. It will generate a new pair of access key ID and secret.\n",
    "\n",
    " - Save the new access key ID and secret in your `dwh.cfg` file\n",
    "\n",
    "2. **Option 2 - Create a new IAM user with Admin access** - Refer to the instructions at the top. "
   ]
  },
  {
   "cell_type": "markdown",
   "metadata": {
    "editable": true
   },
   "source": [
    "# Load AWS Params from a file"
   ]
  },
  {
   "cell_type": "code",
   "execution_count": 2,
   "metadata": {
    "editable": true
   },
   "outputs": [],
   "source": [
    "import configparser"
   ]
  },
  {
   "cell_type": "code",
   "execution_count": 3,
   "metadata": {
    "editable": true
   },
   "outputs": [],
   "source": [
    "config_secret = configparser.ConfigParser()\n",
    "config_secret.read_file(open('dwh_010_secret.cfg'))\n",
    "\n",
    "AWS_KEY    = config_secret.get('AWS','ADMIN_KEY')\n",
    "AWS_SECRET = config_secret.get('AWS','ADMIN_SECRET')"
   ]
  },
  {
   "cell_type": "code",
   "execution_count": 4,
   "metadata": {
    "editable": true
   },
   "outputs": [],
   "source": [
    "config_dwh = configparser.ConfigParser()\n",
    "config_dwh.read_file(open('dwh_020_build.cfg'))\n",
    "\n",
    "DWH_CLUSTER_TYPE       = config_dwh.get(\"DWH\",\"DWH_CLUSTER_TYPE\")\n",
    "\n",
    "if (DWH_CLUSTER_TYPE == 'multi-node'):\n",
    "    DWH_NUM_NODES = config_dwh.get(\"DWH\",\"DWH_NUM_NODES\")\n",
    "    assert DWH_NUM_NODES > 1\n",
    "\n",
    "elif (DWH_CLUSTER_TYPE == 'single-node'):\n",
    "    DWH_NUM_NODES = 1\n",
    "    \n",
    "DWH_NODE_TYPE          = config_dwh.get(\"DWH\",\"DWH_NODE_TYPE\")\n",
    "\n",
    "DWH_CLUSTER_IDENTIFIER = config_dwh.get(\"DWH\",\"DWH_CLUSTER_IDENTIFIER\")\n",
    "DWH_DB                 = config_dwh.get(\"DWH\",\"DWH_DB\")\n",
    "DWH_DB_USER            = config_dwh.get(\"DWH\",\"DWH_DB_USER\")\n",
    "DWH_DB_PASSWORD        = config_dwh.get(\"DWH\",\"DWH_DB_PASSWORD\")\n",
    "DWH_PORT               = config_dwh.get(\"DWH\",\"DWH_PORT\")\n",
    "\n",
    "DWH_IAM_ROLE_NAME      = config_dwh.get(\"DWH\", \"DWH_IAM_ROLE_NAME\")"
   ]
  },
  {
   "cell_type": "code",
   "execution_count": 5,
   "metadata": {
    "editable": true
   },
   "outputs": [
    {
     "data": {
      "text/plain": [
       "('sparkifyuser', 'UdhBYsV9oBKnr5sWxGDsF6L8ki3JJrzs', 'sparkifydb')"
      ]
     },
     "execution_count": 5,
     "metadata": {},
     "output_type": "execute_result"
    }
   ],
   "source": [
    "(DWH_DB_USER, DWH_DB_PASSWORD, DWH_DB)"
   ]
  },
  {
   "cell_type": "code",
   "execution_count": 6,
   "metadata": {
    "editable": true
   },
   "outputs": [
    {
     "data": {
      "text/html": [
       "<div>\n",
       "<style scoped>\n",
       "    .dataframe tbody tr th:only-of-type {\n",
       "        vertical-align: middle;\n",
       "    }\n",
       "\n",
       "    .dataframe tbody tr th {\n",
       "        vertical-align: top;\n",
       "    }\n",
       "\n",
       "    .dataframe thead th {\n",
       "        text-align: right;\n",
       "    }\n",
       "</style>\n",
       "<table border=\"1\" class=\"dataframe\">\n",
       "  <thead>\n",
       "    <tr style=\"text-align: right;\">\n",
       "      <th></th>\n",
       "      <th>Param</th>\n",
       "      <th>Value</th>\n",
       "    </tr>\n",
       "  </thead>\n",
       "  <tbody>\n",
       "    <tr>\n",
       "      <th>0</th>\n",
       "      <td>DWH_CLUSTER_TYPE</td>\n",
       "      <td>single-node</td>\n",
       "    </tr>\n",
       "    <tr>\n",
       "      <th>1</th>\n",
       "      <td>DWH_NUM_NODES</td>\n",
       "      <td>1</td>\n",
       "    </tr>\n",
       "    <tr>\n",
       "      <th>2</th>\n",
       "      <td>DWH_NODE_TYPE</td>\n",
       "      <td>dc2.large</td>\n",
       "    </tr>\n",
       "    <tr>\n",
       "      <th>3</th>\n",
       "      <td>DWH_CLUSTER_IDENTIFIER</td>\n",
       "      <td>sparkifyCluster</td>\n",
       "    </tr>\n",
       "    <tr>\n",
       "      <th>4</th>\n",
       "      <td>DWH_DB</td>\n",
       "      <td>sparkifydb</td>\n",
       "    </tr>\n",
       "    <tr>\n",
       "      <th>5</th>\n",
       "      <td>DWH_DB_USER</td>\n",
       "      <td>sparkifyuser</td>\n",
       "    </tr>\n",
       "    <tr>\n",
       "      <th>6</th>\n",
       "      <td>DWH_DB_PASSWORD</td>\n",
       "      <td>UdhBYsV9oBKnr5sWxGDsF6L8ki3JJrzs</td>\n",
       "    </tr>\n",
       "    <tr>\n",
       "      <th>7</th>\n",
       "      <td>DWH_PORT</td>\n",
       "      <td>5439</td>\n",
       "    </tr>\n",
       "    <tr>\n",
       "      <th>8</th>\n",
       "      <td>DWH_IAM_ROLE_NAME</td>\n",
       "      <td>sparkifyS3ReadOnlyRole</td>\n",
       "    </tr>\n",
       "  </tbody>\n",
       "</table>\n",
       "</div>"
      ],
      "text/plain": [
       "                    Param                             Value\n",
       "0        DWH_CLUSTER_TYPE                       single-node\n",
       "1           DWH_NUM_NODES                                 1\n",
       "2           DWH_NODE_TYPE                         dc2.large\n",
       "3  DWH_CLUSTER_IDENTIFIER                   sparkifyCluster\n",
       "4                  DWH_DB                        sparkifydb\n",
       "5             DWH_DB_USER                      sparkifyuser\n",
       "6         DWH_DB_PASSWORD  UdhBYsV9oBKnr5sWxGDsF6L8ki3JJrzs\n",
       "7                DWH_PORT                              5439\n",
       "8       DWH_IAM_ROLE_NAME            sparkifyS3ReadOnlyRole"
      ]
     },
     "execution_count": 6,
     "metadata": {},
     "output_type": "execute_result"
    }
   ],
   "source": [
    "pd.DataFrame({\"Param\":\n",
    "                  [\"DWH_CLUSTER_TYPE\", \"DWH_NUM_NODES\", \"DWH_NODE_TYPE\", \"DWH_CLUSTER_IDENTIFIER\", \"DWH_DB\", \"DWH_DB_USER\", \"DWH_DB_PASSWORD\", \"DWH_PORT\", \"DWH_IAM_ROLE_NAME\"],\n",
    "              \"Value\":\n",
    "                  [DWH_CLUSTER_TYPE, DWH_NUM_NODES, DWH_NODE_TYPE, DWH_CLUSTER_IDENTIFIER, DWH_DB, DWH_DB_USER, DWH_DB_PASSWORD, DWH_PORT, DWH_IAM_ROLE_NAME]\n",
    "             })"
   ]
  },
  {
   "cell_type": "markdown",
   "metadata": {
    "editable": true
   },
   "source": [
    "# Create clients for IAM, EC2, S3 and Redshift\n",
    "\n",
    "**Note**: We are creating these resources in the the **us-west-2** region. Choose the same region in the your AWS web console to the see these resources."
   ]
  },
  {
   "cell_type": "code",
   "execution_count": 7,
   "metadata": {
    "editable": true
   },
   "outputs": [],
   "source": [
    "import boto3\n",
    "\n",
    "ec2 = boto3.resource('ec2',\n",
    "                       region_name=\"us-west-2\",\n",
    "                       aws_access_key_id=AWS_KEY,\n",
    "                       aws_secret_access_key=AWS_SECRET\n",
    "                    )\n",
    "\n",
    "s3 = boto3.resource('s3',\n",
    "                       region_name=\"us-west-2\",\n",
    "                       aws_access_key_id=AWS_KEY,\n",
    "                       aws_secret_access_key=AWS_SECRET\n",
    "                   )\n",
    "\n",
    "iam = boto3.client('iam',aws_access_key_id=AWS_KEY,\n",
    "                     aws_secret_access_key=AWS_SECRET,\n",
    "                     region_name='us-west-2'\n",
    "                  )\n",
    "\n",
    "redshift = boto3.client('redshift',\n",
    "                       region_name=\"us-west-2\",\n",
    "                       aws_access_key_id=AWS_KEY,\n",
    "                       aws_secret_access_key=AWS_SECRET\n",
    "                       )"
   ]
  },
  {
   "cell_type": "markdown",
   "metadata": {
    "editable": true
   },
   "source": [
    "# Check out the sample data sources on S3"
   ]
  },
  {
   "cell_type": "code",
   "execution_count": 8,
   "metadata": {
    "editable": true
   },
   "outputs": [
    {
     "data": {
      "text/plain": [
       "s3.Bucket(name='udacity-dend')"
      ]
     },
     "execution_count": 8,
     "metadata": {},
     "output_type": "execute_result"
    }
   ],
   "source": [
    "sampleDbBucket =  s3.Bucket(\"udacity-dend\")\n",
    "sampleDbBucket"
   ]
  },
  {
   "cell_type": "markdown",
   "metadata": {
    "editable": true
   },
   "source": [
    "### Song Data Samples"
   ]
  },
  {
   "cell_type": "code",
   "execution_count": 9,
   "metadata": {
    "editable": true
   },
   "outputs": [
    {
     "data": {
      "text/plain": [
       "[s3.ObjectSummary(bucket_name='udacity-dend', key='song_data/A/A/A/TRAAAAK128F9318786.json'),\n",
       " s3.ObjectSummary(bucket_name='udacity-dend', key='song_data/A/A/A/TRAAAAV128F421A322.json'),\n",
       " s3.ObjectSummary(bucket_name='udacity-dend', key='song_data/A/A/A/TRAAABD128F429CF47.json'),\n",
       " s3.ObjectSummary(bucket_name='udacity-dend', key='song_data/A/A/A/TRAAACN128F9355673.json'),\n",
       " s3.ObjectSummary(bucket_name='udacity-dend', key='song_data/A/A/A/TRAAAEA128F935A30D.json')]"
      ]
     },
     "execution_count": 9,
     "metadata": {},
     "output_type": "execute_result"
    }
   ],
   "source": [
    "# For demo purpose, list all objects in a particular song directory\n",
    "song_data_samples = list(sampleDbBucket.objects.filter(Prefix='song_data/A/A/A/'))[:5]\n",
    "song_data_samples"
   ]
  },
  {
   "cell_type": "code",
   "execution_count": 10,
   "metadata": {
    "editable": true
   },
   "outputs": [
    {
     "data": {
      "text/plain": [
       "[{'artist_id': 'ARJNIUY12298900C91',\n",
       "  'artist_latitude': None,\n",
       "  'artist_location': '',\n",
       "  'artist_longitude': None,\n",
       "  'artist_name': 'Adelitas Way',\n",
       "  'duration': 213.9424,\n",
       "  'num_songs': 1,\n",
       "  'song_id': 'SOBLFFE12AF72AA5BA',\n",
       "  'title': 'Scream',\n",
       "  'year': 2009},\n",
       " {'artist_id': 'AR73AIO1187B9AD57B',\n",
       "  'artist_latitude': 37.77916,\n",
       "  'artist_location': 'San Francisco, CA',\n",
       "  'artist_longitude': -122.42005,\n",
       "  'artist_name': 'Western Addiction',\n",
       "  'duration': 118.07302,\n",
       "  'num_songs': 1,\n",
       "  'song_id': 'SOQPWCR12A6D4FB2A3',\n",
       "  'title': 'A Poor Recipe For Civic Cohesion',\n",
       "  'year': 2005},\n",
       " {'artist_id': 'ARMJAGH1187FB546F3',\n",
       "  'artist_latitude': 35.14968,\n",
       "  'artist_location': 'Memphis, TN',\n",
       "  'artist_longitude': -90.04892,\n",
       "  'artist_name': 'The Box Tops',\n",
       "  'duration': 148.03546,\n",
       "  'num_songs': 1,\n",
       "  'song_id': 'SOCIWDW12A8C13D406',\n",
       "  'title': 'Soul Deep',\n",
       "  'year': 1969},\n",
       " {'artist_id': 'AR9Q9YC1187FB5609B',\n",
       "  'artist_latitude': None,\n",
       "  'artist_location': 'New Jersey',\n",
       "  'artist_longitude': None,\n",
       "  'artist_name': 'Quest_ Pup_ Kevo',\n",
       "  'duration': 252.94322,\n",
       "  'num_songs': 1,\n",
       "  'song_id': 'SOFRDWL12A58A7CEF7',\n",
       "  'title': 'Hit Da Scene',\n",
       "  'year': 0},\n",
       " {'artist_id': 'ARSVTNL1187B992A91',\n",
       "  'artist_latitude': 51.50632,\n",
       "  'artist_location': 'London, England',\n",
       "  'artist_longitude': -0.12714,\n",
       "  'artist_name': 'Jonathan King',\n",
       "  'duration': 129.85424,\n",
       "  'num_songs': 1,\n",
       "  'song_id': 'SOEKAZG12AB018837E',\n",
       "  'title': \"I'll Slap Your Face (Entertainment USA Theme)\",\n",
       "  'year': 2001}]"
      ]
     },
     "execution_count": 10,
     "metadata": {},
     "output_type": "execute_result"
    }
   ],
   "source": [
    "song_data_samples_2 = [json.loads(obj.get()['Body'].read().decode('utf-8')) for obj in song_data_samples]\n",
    "song_data_samples_2"
   ]
  },
  {
   "cell_type": "code",
   "execution_count": 11,
   "metadata": {
    "editable": true
   },
   "outputs": [
    {
     "data": {
      "text/html": [
       "<div>\n",
       "<style scoped>\n",
       "    .dataframe tbody tr th:only-of-type {\n",
       "        vertical-align: middle;\n",
       "    }\n",
       "\n",
       "    .dataframe tbody tr th {\n",
       "        vertical-align: top;\n",
       "    }\n",
       "\n",
       "    .dataframe thead th {\n",
       "        text-align: right;\n",
       "    }\n",
       "</style>\n",
       "<table border=\"1\" class=\"dataframe\">\n",
       "  <thead>\n",
       "    <tr style=\"text-align: right;\">\n",
       "      <th></th>\n",
       "      <th>artist_id</th>\n",
       "      <th>artist_latitude</th>\n",
       "      <th>artist_location</th>\n",
       "      <th>artist_longitude</th>\n",
       "      <th>artist_name</th>\n",
       "      <th>duration</th>\n",
       "      <th>num_songs</th>\n",
       "      <th>song_id</th>\n",
       "      <th>title</th>\n",
       "      <th>year</th>\n",
       "    </tr>\n",
       "  </thead>\n",
       "  <tbody>\n",
       "    <tr>\n",
       "      <th>0</th>\n",
       "      <td>ARJNIUY12298900C91</td>\n",
       "      <td>NaN</td>\n",
       "      <td></td>\n",
       "      <td>NaN</td>\n",
       "      <td>Adelitas Way</td>\n",
       "      <td>213.94240</td>\n",
       "      <td>1</td>\n",
       "      <td>SOBLFFE12AF72AA5BA</td>\n",
       "      <td>Scream</td>\n",
       "      <td>2009</td>\n",
       "    </tr>\n",
       "    <tr>\n",
       "      <th>1</th>\n",
       "      <td>AR73AIO1187B9AD57B</td>\n",
       "      <td>37.77916</td>\n",
       "      <td>San Francisco, CA</td>\n",
       "      <td>-122.42005</td>\n",
       "      <td>Western Addiction</td>\n",
       "      <td>118.07302</td>\n",
       "      <td>1</td>\n",
       "      <td>SOQPWCR12A6D4FB2A3</td>\n",
       "      <td>A Poor Recipe For Civic Cohesion</td>\n",
       "      <td>2005</td>\n",
       "    </tr>\n",
       "    <tr>\n",
       "      <th>2</th>\n",
       "      <td>ARMJAGH1187FB546F3</td>\n",
       "      <td>35.14968</td>\n",
       "      <td>Memphis, TN</td>\n",
       "      <td>-90.04892</td>\n",
       "      <td>The Box Tops</td>\n",
       "      <td>148.03546</td>\n",
       "      <td>1</td>\n",
       "      <td>SOCIWDW12A8C13D406</td>\n",
       "      <td>Soul Deep</td>\n",
       "      <td>1969</td>\n",
       "    </tr>\n",
       "    <tr>\n",
       "      <th>3</th>\n",
       "      <td>AR9Q9YC1187FB5609B</td>\n",
       "      <td>NaN</td>\n",
       "      <td>New Jersey</td>\n",
       "      <td>NaN</td>\n",
       "      <td>Quest_ Pup_ Kevo</td>\n",
       "      <td>252.94322</td>\n",
       "      <td>1</td>\n",
       "      <td>SOFRDWL12A58A7CEF7</td>\n",
       "      <td>Hit Da Scene</td>\n",
       "      <td>0</td>\n",
       "    </tr>\n",
       "    <tr>\n",
       "      <th>4</th>\n",
       "      <td>ARSVTNL1187B992A91</td>\n",
       "      <td>51.50632</td>\n",
       "      <td>London, England</td>\n",
       "      <td>-0.12714</td>\n",
       "      <td>Jonathan King</td>\n",
       "      <td>129.85424</td>\n",
       "      <td>1</td>\n",
       "      <td>SOEKAZG12AB018837E</td>\n",
       "      <td>I'll Slap Your Face (Entertainment USA Theme)</td>\n",
       "      <td>2001</td>\n",
       "    </tr>\n",
       "  </tbody>\n",
       "</table>\n",
       "</div>"
      ],
      "text/plain": [
       "            artist_id  artist_latitude    artist_location  artist_longitude  \\\n",
       "0  ARJNIUY12298900C91              NaN                                  NaN   \n",
       "1  AR73AIO1187B9AD57B         37.77916  San Francisco, CA        -122.42005   \n",
       "2  ARMJAGH1187FB546F3         35.14968        Memphis, TN         -90.04892   \n",
       "3  AR9Q9YC1187FB5609B              NaN         New Jersey               NaN   \n",
       "4  ARSVTNL1187B992A91         51.50632    London, England          -0.12714   \n",
       "\n",
       "         artist_name   duration  num_songs             song_id  \\\n",
       "0       Adelitas Way  213.94240          1  SOBLFFE12AF72AA5BA   \n",
       "1  Western Addiction  118.07302          1  SOQPWCR12A6D4FB2A3   \n",
       "2       The Box Tops  148.03546          1  SOCIWDW12A8C13D406   \n",
       "3   Quest_ Pup_ Kevo  252.94322          1  SOFRDWL12A58A7CEF7   \n",
       "4      Jonathan King  129.85424          1  SOEKAZG12AB018837E   \n",
       "\n",
       "                                           title  year  \n",
       "0                                         Scream  2009  \n",
       "1               A Poor Recipe For Civic Cohesion  2005  \n",
       "2                                      Soul Deep  1969  \n",
       "3                                   Hit Da Scene     0  \n",
       "4  I'll Slap Your Face (Entertainment USA Theme)  2001  "
      ]
     },
     "execution_count": 11,
     "metadata": {},
     "output_type": "execute_result"
    }
   ],
   "source": [
    "df_song_data_samples = pd.DataFrame(song_data_samples_2)\n",
    "df_song_data_samples.head()"
   ]
  },
  {
   "cell_type": "markdown",
   "metadata": {
    "editable": true
   },
   "source": [
    "### Log Data Samples"
   ]
  },
  {
   "cell_type": "code",
   "execution_count": 12,
   "metadata": {
    "editable": true
   },
   "outputs": [
    {
     "data": {
      "text/plain": [
       "[s3.ObjectSummary(bucket_name='udacity-dend', key='log_data/2018/11/2018-11-01-events.json'),\n",
       " s3.ObjectSummary(bucket_name='udacity-dend', key='log_data/2018/11/2018-11-02-events.json'),\n",
       " s3.ObjectSummary(bucket_name='udacity-dend', key='log_data/2018/11/2018-11-03-events.json'),\n",
       " s3.ObjectSummary(bucket_name='udacity-dend', key='log_data/2018/11/2018-11-04-events.json'),\n",
       " s3.ObjectSummary(bucket_name='udacity-dend', key='log_data/2018/11/2018-11-05-events.json')]"
      ]
     },
     "execution_count": 12,
     "metadata": {},
     "output_type": "execute_result"
    }
   ],
   "source": [
    "# For demo purpose, list all objects in a particular event log directory\n",
    "log_data_samples = list(sampleDbBucket.objects.filter(Prefix='log_data/2018/11'))[:5]\n",
    "log_data_samples"
   ]
  },
  {
   "cell_type": "code",
   "execution_count": 13,
   "metadata": {
    "editable": true
   },
   "outputs": [],
   "source": [
    "import itertools"
   ]
  },
  {
   "cell_type": "code",
   "execution_count": 14,
   "metadata": {
    "editable": true
   },
   "outputs": [
    {
     "data": {
      "text/plain": [
       "[{'artist': None,\n",
       "  'auth': 'Logged In',\n",
       "  'firstName': 'Walter',\n",
       "  'gender': 'M',\n",
       "  'itemInSession': 0,\n",
       "  'lastName': 'Frye',\n",
       "  'length': None,\n",
       "  'level': 'free',\n",
       "  'location': 'San Francisco-Oakland-Hayward, CA',\n",
       "  'method': 'GET',\n",
       "  'page': 'Home',\n",
       "  'registration': 1540919166796.0,\n",
       "  'sessionId': 38,\n",
       "  'song': None,\n",
       "  'status': 200,\n",
       "  'ts': 1541105830796,\n",
       "  'userAgent': '\"Mozilla/5.0 (Macintosh; Intel Mac OS X 10_9_4) AppleWebKit/537.36 (KHTML, like Gecko) Chrome/36.0.1985.143 Safari/537.36\"',\n",
       "  'userId': '39'},\n",
       " {'artist': None,\n",
       "  'auth': 'Logged In',\n",
       "  'firstName': 'Kaylee',\n",
       "  'gender': 'F',\n",
       "  'itemInSession': 0,\n",
       "  'lastName': 'Summers',\n",
       "  'length': None,\n",
       "  'level': 'free',\n",
       "  'location': 'Phoenix-Mesa-Scottsdale, AZ',\n",
       "  'method': 'GET',\n",
       "  'page': 'Home',\n",
       "  'registration': 1540344794796.0,\n",
       "  'sessionId': 139,\n",
       "  'song': None,\n",
       "  'status': 200,\n",
       "  'ts': 1541106106796,\n",
       "  'userAgent': '\"Mozilla/5.0 (Windows NT 6.1; WOW64) AppleWebKit/537.36 (KHTML, like Gecko) Chrome/35.0.1916.153 Safari/537.36\"',\n",
       "  'userId': '8'},\n",
       " {'artist': \"Des'ree\",\n",
       "  'auth': 'Logged In',\n",
       "  'firstName': 'Kaylee',\n",
       "  'gender': 'F',\n",
       "  'itemInSession': 1,\n",
       "  'lastName': 'Summers',\n",
       "  'length': 246.30812,\n",
       "  'level': 'free',\n",
       "  'location': 'Phoenix-Mesa-Scottsdale, AZ',\n",
       "  'method': 'PUT',\n",
       "  'page': 'NextSong',\n",
       "  'registration': 1540344794796.0,\n",
       "  'sessionId': 139,\n",
       "  'song': 'You Gotta Be',\n",
       "  'status': 200,\n",
       "  'ts': 1541106106796,\n",
       "  'userAgent': '\"Mozilla/5.0 (Windows NT 6.1; WOW64) AppleWebKit/537.36 (KHTML, like Gecko) Chrome/35.0.1916.153 Safari/537.36\"',\n",
       "  'userId': '8'},\n",
       " {'artist': None,\n",
       "  'auth': 'Logged In',\n",
       "  'firstName': 'Kaylee',\n",
       "  'gender': 'F',\n",
       "  'itemInSession': 2,\n",
       "  'lastName': 'Summers',\n",
       "  'length': None,\n",
       "  'level': 'free',\n",
       "  'location': 'Phoenix-Mesa-Scottsdale, AZ',\n",
       "  'method': 'GET',\n",
       "  'page': 'Upgrade',\n",
       "  'registration': 1540344794796.0,\n",
       "  'sessionId': 139,\n",
       "  'song': None,\n",
       "  'status': 200,\n",
       "  'ts': 1541106132796,\n",
       "  'userAgent': '\"Mozilla/5.0 (Windows NT 6.1; WOW64) AppleWebKit/537.36 (KHTML, like Gecko) Chrome/35.0.1916.153 Safari/537.36\"',\n",
       "  'userId': '8'},\n",
       " {'artist': 'Mr Oizo',\n",
       "  'auth': 'Logged In',\n",
       "  'firstName': 'Kaylee',\n",
       "  'gender': 'F',\n",
       "  'itemInSession': 3,\n",
       "  'lastName': 'Summers',\n",
       "  'length': 144.03873,\n",
       "  'level': 'free',\n",
       "  'location': 'Phoenix-Mesa-Scottsdale, AZ',\n",
       "  'method': 'PUT',\n",
       "  'page': 'NextSong',\n",
       "  'registration': 1540344794796.0,\n",
       "  'sessionId': 139,\n",
       "  'song': 'Flat 55',\n",
       "  'status': 200,\n",
       "  'ts': 1541106352796,\n",
       "  'userAgent': '\"Mozilla/5.0 (Windows NT 6.1; WOW64) AppleWebKit/537.36 (KHTML, like Gecko) Chrome/35.0.1916.153 Safari/537.36\"',\n",
       "  'userId': '8'}]"
      ]
     },
     "execution_count": 14,
     "metadata": {},
     "output_type": "execute_result"
    }
   ],
   "source": [
    "# https://stackoverflow.com/questions/952914/how-do-i-make-a-flat-list-out-of-a-list-of-lists\n",
    "log_data_samples_2 = [\n",
    "    json.loads(obj2)\n",
    "    for obj2\n",
    "    in list(itertools.chain(*[\n",
    "        obj.get()['Body'].read().decode('utf-8').split('\\n')\n",
    "        for obj\n",
    "        in log_data_samples\n",
    "    ]))\n",
    "]\n",
    "\n",
    "log_data_samples_2[:5]"
   ]
  },
  {
   "cell_type": "code",
   "execution_count": 15,
   "metadata": {
    "editable": true
   },
   "outputs": [
    {
     "data": {
      "text/html": [
       "<div>\n",
       "<style scoped>\n",
       "    .dataframe tbody tr th:only-of-type {\n",
       "        vertical-align: middle;\n",
       "    }\n",
       "\n",
       "    .dataframe tbody tr th {\n",
       "        vertical-align: top;\n",
       "    }\n",
       "\n",
       "    .dataframe thead th {\n",
       "        text-align: right;\n",
       "    }\n",
       "</style>\n",
       "<table border=\"1\" class=\"dataframe\">\n",
       "  <thead>\n",
       "    <tr style=\"text-align: right;\">\n",
       "      <th></th>\n",
       "      <th>artist</th>\n",
       "      <th>auth</th>\n",
       "      <th>firstName</th>\n",
       "      <th>gender</th>\n",
       "      <th>itemInSession</th>\n",
       "      <th>lastName</th>\n",
       "      <th>length</th>\n",
       "      <th>level</th>\n",
       "      <th>location</th>\n",
       "      <th>method</th>\n",
       "      <th>page</th>\n",
       "      <th>registration</th>\n",
       "      <th>sessionId</th>\n",
       "      <th>song</th>\n",
       "      <th>status</th>\n",
       "      <th>ts</th>\n",
       "      <th>userAgent</th>\n",
       "      <th>userId</th>\n",
       "    </tr>\n",
       "  </thead>\n",
       "  <tbody>\n",
       "    <tr>\n",
       "      <th>0</th>\n",
       "      <td>None</td>\n",
       "      <td>Logged In</td>\n",
       "      <td>Walter</td>\n",
       "      <td>M</td>\n",
       "      <td>0</td>\n",
       "      <td>Frye</td>\n",
       "      <td>NaN</td>\n",
       "      <td>free</td>\n",
       "      <td>San Francisco-Oakland-Hayward, CA</td>\n",
       "      <td>GET</td>\n",
       "      <td>Home</td>\n",
       "      <td>1.540919e+12</td>\n",
       "      <td>38</td>\n",
       "      <td>None</td>\n",
       "      <td>200</td>\n",
       "      <td>1541105830796</td>\n",
       "      <td>\"Mozilla/5.0 (Macintosh; Intel Mac OS X 10_9_4...</td>\n",
       "      <td>39</td>\n",
       "    </tr>\n",
       "    <tr>\n",
       "      <th>1</th>\n",
       "      <td>None</td>\n",
       "      <td>Logged In</td>\n",
       "      <td>Kaylee</td>\n",
       "      <td>F</td>\n",
       "      <td>0</td>\n",
       "      <td>Summers</td>\n",
       "      <td>NaN</td>\n",
       "      <td>free</td>\n",
       "      <td>Phoenix-Mesa-Scottsdale, AZ</td>\n",
       "      <td>GET</td>\n",
       "      <td>Home</td>\n",
       "      <td>1.540345e+12</td>\n",
       "      <td>139</td>\n",
       "      <td>None</td>\n",
       "      <td>200</td>\n",
       "      <td>1541106106796</td>\n",
       "      <td>\"Mozilla/5.0 (Windows NT 6.1; WOW64) AppleWebK...</td>\n",
       "      <td>8</td>\n",
       "    </tr>\n",
       "    <tr>\n",
       "      <th>2</th>\n",
       "      <td>Des'ree</td>\n",
       "      <td>Logged In</td>\n",
       "      <td>Kaylee</td>\n",
       "      <td>F</td>\n",
       "      <td>1</td>\n",
       "      <td>Summers</td>\n",
       "      <td>246.30812</td>\n",
       "      <td>free</td>\n",
       "      <td>Phoenix-Mesa-Scottsdale, AZ</td>\n",
       "      <td>PUT</td>\n",
       "      <td>NextSong</td>\n",
       "      <td>1.540345e+12</td>\n",
       "      <td>139</td>\n",
       "      <td>You Gotta Be</td>\n",
       "      <td>200</td>\n",
       "      <td>1541106106796</td>\n",
       "      <td>\"Mozilla/5.0 (Windows NT 6.1; WOW64) AppleWebK...</td>\n",
       "      <td>8</td>\n",
       "    </tr>\n",
       "    <tr>\n",
       "      <th>3</th>\n",
       "      <td>None</td>\n",
       "      <td>Logged In</td>\n",
       "      <td>Kaylee</td>\n",
       "      <td>F</td>\n",
       "      <td>2</td>\n",
       "      <td>Summers</td>\n",
       "      <td>NaN</td>\n",
       "      <td>free</td>\n",
       "      <td>Phoenix-Mesa-Scottsdale, AZ</td>\n",
       "      <td>GET</td>\n",
       "      <td>Upgrade</td>\n",
       "      <td>1.540345e+12</td>\n",
       "      <td>139</td>\n",
       "      <td>None</td>\n",
       "      <td>200</td>\n",
       "      <td>1541106132796</td>\n",
       "      <td>\"Mozilla/5.0 (Windows NT 6.1; WOW64) AppleWebK...</td>\n",
       "      <td>8</td>\n",
       "    </tr>\n",
       "    <tr>\n",
       "      <th>4</th>\n",
       "      <td>Mr Oizo</td>\n",
       "      <td>Logged In</td>\n",
       "      <td>Kaylee</td>\n",
       "      <td>F</td>\n",
       "      <td>3</td>\n",
       "      <td>Summers</td>\n",
       "      <td>144.03873</td>\n",
       "      <td>free</td>\n",
       "      <td>Phoenix-Mesa-Scottsdale, AZ</td>\n",
       "      <td>PUT</td>\n",
       "      <td>NextSong</td>\n",
       "      <td>1.540345e+12</td>\n",
       "      <td>139</td>\n",
       "      <td>Flat 55</td>\n",
       "      <td>200</td>\n",
       "      <td>1541106352796</td>\n",
       "      <td>\"Mozilla/5.0 (Windows NT 6.1; WOW64) AppleWebK...</td>\n",
       "      <td>8</td>\n",
       "    </tr>\n",
       "  </tbody>\n",
       "</table>\n",
       "</div>"
      ],
      "text/plain": [
       "    artist       auth firstName gender  itemInSession lastName     length  \\\n",
       "0     None  Logged In    Walter      M              0     Frye        NaN   \n",
       "1     None  Logged In    Kaylee      F              0  Summers        NaN   \n",
       "2  Des'ree  Logged In    Kaylee      F              1  Summers  246.30812   \n",
       "3     None  Logged In    Kaylee      F              2  Summers        NaN   \n",
       "4  Mr Oizo  Logged In    Kaylee      F              3  Summers  144.03873   \n",
       "\n",
       "  level                           location method      page  registration  \\\n",
       "0  free  San Francisco-Oakland-Hayward, CA    GET      Home  1.540919e+12   \n",
       "1  free        Phoenix-Mesa-Scottsdale, AZ    GET      Home  1.540345e+12   \n",
       "2  free        Phoenix-Mesa-Scottsdale, AZ    PUT  NextSong  1.540345e+12   \n",
       "3  free        Phoenix-Mesa-Scottsdale, AZ    GET   Upgrade  1.540345e+12   \n",
       "4  free        Phoenix-Mesa-Scottsdale, AZ    PUT  NextSong  1.540345e+12   \n",
       "\n",
       "   sessionId          song  status             ts  \\\n",
       "0         38          None     200  1541105830796   \n",
       "1        139          None     200  1541106106796   \n",
       "2        139  You Gotta Be     200  1541106106796   \n",
       "3        139          None     200  1541106132796   \n",
       "4        139       Flat 55     200  1541106352796   \n",
       "\n",
       "                                           userAgent userId  \n",
       "0  \"Mozilla/5.0 (Macintosh; Intel Mac OS X 10_9_4...     39  \n",
       "1  \"Mozilla/5.0 (Windows NT 6.1; WOW64) AppleWebK...      8  \n",
       "2  \"Mozilla/5.0 (Windows NT 6.1; WOW64) AppleWebK...      8  \n",
       "3  \"Mozilla/5.0 (Windows NT 6.1; WOW64) AppleWebK...      8  \n",
       "4  \"Mozilla/5.0 (Windows NT 6.1; WOW64) AppleWebK...      8  "
      ]
     },
     "execution_count": 15,
     "metadata": {},
     "output_type": "execute_result"
    }
   ],
   "source": [
    "df_log_data_samples = pd.DataFrame(log_data_samples_2)\n",
    "df_log_data_samples.head()"
   ]
  },
  {
   "cell_type": "markdown",
   "metadata": {
    "editable": true
   },
   "source": [
    "## Log Data Paths"
   ]
  },
  {
   "cell_type": "code",
   "execution_count": 16,
   "metadata": {
    "editable": true
   },
   "outputs": [
    {
     "data": {
      "text/plain": [
       "[s3.ObjectSummary(bucket_name='udacity-dend', key='log_json_path.json')]"
      ]
     },
     "execution_count": 16,
     "metadata": {},
     "output_type": "execute_result"
    }
   ],
   "source": [
    "log_json_path_samples = list(sampleDbBucket.objects.filter(Prefix='log_json_path.json'))[:5]\n",
    "log_json_path_samples"
   ]
  },
  {
   "cell_type": "code",
   "execution_count": 17,
   "metadata": {
    "editable": true
   },
   "outputs": [
    {
     "data": {
      "text/plain": [
       "[{'jsonpaths': [\"$['artist']\",\n",
       "   \"$['auth']\",\n",
       "   \"$['firstName']\",\n",
       "   \"$['gender']\",\n",
       "   \"$['itemInSession']\",\n",
       "   \"$['lastName']\",\n",
       "   \"$['length']\",\n",
       "   \"$['level']\",\n",
       "   \"$['location']\",\n",
       "   \"$['method']\",\n",
       "   \"$['page']\",\n",
       "   \"$['registration']\",\n",
       "   \"$['sessionId']\",\n",
       "   \"$['song']\",\n",
       "   \"$['status']\",\n",
       "   \"$['ts']\",\n",
       "   \"$['userAgent']\",\n",
       "   \"$['userId']\"]}]"
      ]
     },
     "execution_count": 17,
     "metadata": {},
     "output_type": "execute_result"
    }
   ],
   "source": [
    "log_json_path_samples_2 = [json.loads(obj.get()['Body'].read().decode('utf-8')) for obj in log_json_path_samples]\n",
    "log_json_path_samples_2"
   ]
  },
  {
   "cell_type": "markdown",
   "metadata": {
    "editable": true
   },
   "source": [
    "This FAQ gives clarity what the `log_json_path.json` is for. It provides developer a way to map input JSON to output SQL Table columns, if the column names of the JSON file and the SQL table do not match. If the two are already matching, the `log_json_path.json` file is not required (but optional instead).\n",
    "\n",
    "References:\n",
    "\n",
    "* https://knowledge.udacity.com/questions/214736\n",
    "* https://knowledge.udacity.com/questions/144884\n",
    "* https://docs.aws.amazon.com/redshift/latest/dg/r_COPY_command_examples.html#r_COPY_command_examples-copy-from-json"
   ]
  }
 ],
 "metadata": {
  "kernelspec": {
   "display_name": "Python 3",
   "language": "python",
   "name": "python3"
  },
  "language_info": {
   "codemirror_mode": {
    "name": "ipython",
    "version": 3
   },
   "file_extension": ".py",
   "mimetype": "text/x-python",
   "name": "python",
   "nbconvert_exporter": "python",
   "pygments_lexer": "ipython3",
   "version": "3.6.3"
  }
 },
 "nbformat": 4,
 "nbformat_minor": 4
}
